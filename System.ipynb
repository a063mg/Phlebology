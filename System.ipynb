{
 "cells": [
  {
   "cell_type": "code",
   "execution_count": 3,
   "metadata": {},
   "outputs": [],
   "source": [
    "import numpy as np\n",
    "\n",
    "\n",
    "\"\"\"\n",
    "Citrculatory system graph\n",
    "element index - from-vessel\n",
    "element - array of to-vessels\n",
    "\"\"\"\n",
    "Graph = np.array([[1], [2], [3], [4], [0]])\n",
    "N_vessels = len(Graph)\n",
    "\n",
    "\n",
    "\"\"\"\n",
    "Average normal parameters \n",
    "axis_0 - Res, Sq, Ext\n",
    "axis_1 - vessel number\n",
    "\"\"\"\n",
    "avg_normal_params = np.array([[70, 125, 125, 20.25, 20.25],\n",
    "                              [510.55, 98.15, 631.85, 166.9, 166.9], \n",
    "                              [0.0215, 0.07, 0.06, 0.15, 0.27]])\n",
    "\n",
    "\n",
    "\"\"\"\n",
    "axis_0 - Res, Sq, Ext\n",
    "axis_1 - vessel number\n",
    "axis_2 - [min_patalogy, max_patalogy] \n",
    "\"\"\"\n",
    "\n",
    "full_ranges = np.array([[[30, 100], [30, 210], [30, 210], [0, 150], [0, 150]], \n",
    "                        [[78.5, 1590.4], [0.5, 491], [0.5, 3849], [0.5, 1257], [0, 1591]],\n",
    "                        [[0.0001, 0.1], [0.0001, 0.5], [0.0001, 0.5], [0.0001, 0.6], [0.0001, 0.6]]])\n",
    "\n",
    "\n",
    "\n",
    "LIN = 10\n",
    "full_lins = []\n",
    "\n",
    "for i, dim in enumerate(full_ranges):\n",
    "    for j, ves in enumerate(dim):\n",
    "        full_lins.append(np.linspace(ves[0], ves[1], LIN))\n",
    "        \n",
    "full_lins = np.array(full_lins).reshape((3, len(Graph), LIN))\n",
    "\n",
    "\n",
    "##########################\n",
    "Graph = Graph[[0, 4]]\n",
    "\n",
    "As = [0, 20]\n",
    "Bs = [20, 42]\n",
    "avg_normal_params = np.array([[0.002, 0.002],\n",
    "                              [350, 160], \n",
    "                              [0.32, 0.22]]) \n",
    "full_ranges = np.array([[[0.0005, 0.05], [0.0005, 0.05]],\n",
    "                        [[200, 400], [100, 300]],\n",
    "                        [[0, 0.4], [0, 0.3]]])\n",
    "\n",
    "full_lins = []\n",
    "\n",
    "for i, dim in enumerate(full_ranges):\n",
    "    for j, ves in enumerate(dim):\n",
    "        full_lins.append(np.linspace(ves[0], ves[1], LIN))\n",
    "full_lins = np.array(full_lins).reshape((3, len(Graph), LIN))\n",
    "##########################\n",
    "\n",
    "\n",
    "\n",
    "\"\"\"\n",
    "Physical Equations\n",
    "\"\"\"\n",
    "def dV(Q, a, b):\n",
    "    return Q / (b - a)\n",
    "\n",
    "\n",
    "def dQ(V, Q, a, b, R=10, I=0.0003, C=10):\n",
    "    return -Q * R / I / (b - a) - V / I / C\n",
    "\n",
    "\n",
    "def system_i(t, var, i, Res, Ext):\n",
    "    V, Q = var\n",
    "    R, I, C = Res[i], 0.1, Ext[i]\n",
    "    a, b = As[i], Bs[i]\n",
    "    return np.array([dV(Q, a, b), dQ(V, Q, a, b, R, I, C)])\n",
    "\n",
    "\n",
    "def full_system(t, var, params=avg_normal_params):\n",
    "    Res, Sq, Ext = params\n",
    "    res = []\n",
    "    for i in range(0, len(var), 2):\n",
    "        v = var[i:i+2]\n",
    "        res.append(system_i(t, v, i // 2, Res, Ext))\n",
    "        \n",
    "    return np.array(res).flatten()"
   ]
  },
  {
   "cell_type": "code",
   "execution_count": 9,
   "metadata": {},
   "outputs": [
    {
     "data": {
      "text/plain": [
       "array([  0.125     , -31.2525    ,   0.07692308, -45.45608392])"
      ]
     },
     "execution_count": 9,
     "metadata": {},
     "output_type": "execute_result"
    }
   ],
   "source": [
    "full_system(0, y_init)"
   ]
  },
  {
   "cell_type": "code",
   "execution_count": 8,
   "metadata": {},
   "outputs": [
    {
     "data": {
      "text/plain": [
       "array([1., 1., 1., 1.])"
      ]
     },
     "execution_count": 8,
     "metadata": {},
     "output_type": "execute_result"
    }
   ],
   "source": [
    "y_init = np.ones(len(Graph)*2)\n",
    "y_init"
   ]
  },
  {
   "cell_type": "code",
   "execution_count": null,
   "metadata": {},
   "outputs": [],
   "source": []
  }
 ],
 "metadata": {
  "kernelspec": {
   "display_name": "Python 3 (ipykernel)",
   "language": "python",
   "name": "python3"
  },
  "language_info": {
   "codemirror_mode": {
    "name": "ipython",
    "version": 3
   },
   "file_extension": ".py",
   "mimetype": "text/x-python",
   "name": "python",
   "nbconvert_exporter": "python",
   "pygments_lexer": "ipython3",
   "version": "3.9.7"
  }
 },
 "nbformat": 4,
 "nbformat_minor": 2
}
