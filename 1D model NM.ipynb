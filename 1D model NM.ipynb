{
 "cells": [
  {
   "cell_type": "code",
   "execution_count": 1,
   "id": "77a5de6e",
   "metadata": {},
   "outputs": [],
   "source": [
    "import numpy as np"
   ]
  },
  {
   "cell_type": "code",
   "execution_count": null,
   "id": "9fa9028b",
   "metadata": {},
   "outputs": [],
   "source": [
    "v = \n",
    "s = \n",
    "p = \n",
    "P = "
   ]
  },
  {
   "cell_type": "code",
   "execution_count": null,
   "id": "946fa5c7",
   "metadata": {},
   "outputs": [],
   "source": [
    "def deriv(f, EPS=10**-5):\n",
    "    f()"
   ]
  },
  {
   "cell_type": "code",
   "execution_count": null,
   "id": "25b68212",
   "metadata": {},
   "outputs": [],
   "source": [
    "Jacobian = np.array([s, s], [1/P * deriv(p)/deriv(S)])"
   ]
  }
 ],
 "metadata": {
  "kernelspec": {
   "display_name": "Python 3 (ipykernel)",
   "language": "python",
   "name": "python3"
  },
  "language_info": {
   "codemirror_mode": {
    "name": "ipython",
    "version": 3
   },
   "file_extension": ".py",
   "mimetype": "text/x-python",
   "name": "python",
   "nbconvert_exporter": "python",
   "pygments_lexer": "ipython3",
   "version": "3.9.7"
  }
 },
 "nbformat": 4,
 "nbformat_minor": 5
}
